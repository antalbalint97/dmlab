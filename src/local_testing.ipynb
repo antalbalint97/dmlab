{
 "cells": [
  {
   "cell_type": "code",
   "execution_count": 1,
   "id": "e4d54a7f",
   "metadata": {},
   "outputs": [],
   "source": [
    "import sys\n",
    "from pathlib import Path\n",
    "\n",
    "# Go one level up from \"src\"\n",
    "project_root = Path().resolve().parent\n",
    "sys.path.append(str(project_root))"
   ]
  },
  {
   "cell_type": "code",
   "execution_count": 2,
   "id": "983ea534",
   "metadata": {},
   "outputs": [
    {
     "name": "stdout",
     "output_type": "stream",
     "text": [
      "DataBase\n"
     ]
    }
   ],
   "source": [
    "from src.database import DataBase\n",
    "\n",
    "print(DataBase.__name__)"
   ]
  },
  {
   "cell_type": "code",
   "execution_count": 3,
   "id": "171b86a3",
   "metadata": {},
   "outputs": [
    {
     "name": "stdout",
     "output_type": "stream",
     "text": [
      "Creating dynamic table: companies\n"
     ]
    }
   ],
   "source": [
    "from src.database import get_engine, DataBase\n",
    "from sqlalchemy import String, BigInteger \n",
    "\n",
    "# Define columns for the \"companies\" table\n",
    "columns = {\n",
    "    \"ticker\": ((String,), {\"unique\": True, \"nullable\": False}),\n",
    "    \"longName\": ((String,), {}),\n",
    "    \"sector\": ((String,), {}),\n",
    "    \"industry\": ((String,), {}),\n",
    "    \"country\": ((String,), {}),\n",
    "    \"marketCap\": ((BigInteger,), {}),\n",
    "    \"fullTimeEmployees\": ((BigInteger,), {}),\n",
    "    \"website\": ((String,), {}),\n",
    "}\n",
    "\n",
    "# Create the engine\n",
    "engine = get_engine()\n",
    "\n",
    "# Dynamically create the companies table\n",
    "DataBase.create_table(engine, \"companies\", columns)\n"
   ]
  },
  {
   "cell_type": "code",
   "execution_count": 3,
   "id": "6e04be9b",
   "metadata": {},
   "outputs": [
    {
     "name": "stdout",
     "output_type": "stream",
     "text": [
      "Tables in database: ['companies', 'daily_prices', 'daily_prices_adjusted']\n"
     ]
    }
   ],
   "source": [
    "from sqlalchemy import inspect\n",
    "from src.database import get_engine, DataBase\n",
    "# Create the engine\n",
    "engine = get_engine()\n",
    "\n",
    "# Create an inspector\n",
    "inspector = inspect(engine)\n",
    "\n",
    "# List all tables\n",
    "tables = inspector.get_table_names()\n",
    "print(\"Tables in database:\", tables)"
   ]
  },
  {
   "cell_type": "code",
   "execution_count": null,
   "id": "c256e842",
   "metadata": {},
   "outputs": [
    {
     "name": "stdout",
     "output_type": "stream",
     "text": [
      "FAANG company metadata successfully inserted into dynamic table.\n"
     ]
    }
   ],
   "source": [
    "from src.database import get_engine, get_session\n",
    "from src.etl.companies import CompanyMetadata\n",
    "\n",
    "# Step 1: Define FAANG tickers\n",
    "faang = [\"META\", \"AAPL\", \"AMZN\", \"NFLX\", \"GOOGL\"]\n",
    "\n",
    "# Step 2: Create DB engine and session\n",
    "engine = get_engine()\n",
    "session = get_session(engine)\n",
    "\n",
    "# Step 3: Loop through each ticker and save it into the dynamic table\n",
    "for ticker in faang:\n",
    "    company = CompanyMetadata(ticker)\n",
    "    company.save_to_table(session, \"companies\")\n",
    "\n",
    "session.close()\n",
    "print(\"FAANG company metadata successfully inserted into table.\")\n"
   ]
  },
  {
   "cell_type": "code",
   "execution_count": 3,
   "id": "9c2b1568",
   "metadata": {},
   "outputs": [
    {
     "name": "stdout",
     "output_type": "stream",
     "text": [
      "Creating dynamic table: daily_prices\n"
     ]
    }
   ],
   "source": [
    "from src.database import get_engine, get_session, DataBase\n",
    "from src.etl.daily_prices import DailyPrices\n",
    "from sqlalchemy import String, Date, Float, BigInteger\n",
    "\n",
    "# Define the table schema\n",
    "columns = {\n",
    "    \"ticker\": ((String,), {\"nullable\": False}),\n",
    "    \"date\": ((Date,), {\"nullable\": False}),\n",
    "    \"open\": ((Float,), {}),\n",
    "    \"high\": ((Float,), {}),\n",
    "    \"low\": ((Float,), {}),\n",
    "    \"close\": ((Float,), {}),\n",
    "    \"volume\": ((BigInteger,), {})\n",
    "}\n",
    "\n",
    "engine = get_engine()\n",
    "session = get_session(engine)\n",
    "\n",
    "# Create the table dynamically\n",
    "DataBase.create_table(engine, \"daily_prices\", columns)\n",
    "\n",
    "# Pull and insert price data for FAANG from 2021-01-01 to 2024-12-31\n",
    "faang = [\"META\", \"AAPL\", \"AMZN\", \"NFLX\", \"GOOGL\"]\n",
    "\n",
    "for ticker in faang:\n",
    "    dp = DailyPrices(ticker, start=\"2021-01-01\", end=\"2024-04-17\")\n",
    "    dp.save_to_table(session, \"daily_prices\")\n",
    "\n",
    "session.close()"
   ]
  },
  {
   "cell_type": "code",
   "execution_count": 4,
   "id": "53426661",
   "metadata": {},
   "outputs": [
    {
     "name": "stdout",
     "output_type": "stream",
     "text": [
      "Creating dynamic table: daily_prices_adjusted\n",
      "daily_prices_adjusted table successfully loaded.\n"
     ]
    }
   ],
   "source": [
    "from src.database import get_engine, get_session, DataBase\n",
    "from src.etl.metrics import MetricsCalculator\n",
    "from sqlalchemy import String, Date, Float, BigInteger\n",
    "import yfinance as yf\n",
    "import pandas as pd\n",
    "from datetime import datetime, timedelta\n",
    "from src.database import metadata\n",
    "\n",
    "# Define FAANG tickers\n",
    "faang = [\"META\", \"AAPL\", \"AMZN\", \"NFLX\", \"GOOGL\"]\n",
    "end = datetime.today()\n",
    "start = end - timedelta(days=365 * 3)\n",
    "\n",
    "# Connect to DB\n",
    "engine = get_engine()\n",
    "session = get_session(engine)\n",
    "\n",
    "# Define new enriched table schema\n",
    "columns_adjusted = {\n",
    "    \"ticker\": ((String,), {\"nullable\": False}),\n",
    "    \"date\": ((Date,), {\"nullable\": False}),\n",
    "    \"open\": ((Float,), {}),\n",
    "    \"high\": ((Float,), {}),\n",
    "    \"low\": ((Float,), {}),\n",
    "    \"close\": ((Float,), {}),\n",
    "    \"volume\": ((BigInteger,), {}),\n",
    "    \"ma_5\": ((Float,), {}),\n",
    "    \"ma_63\": ((Float,), {}),\n",
    "    \"ma_126\": ((Float,), {}),\n",
    "    \"ma_252\": ((Float,), {}),\n",
    "    \"volatility_30d\": ((Float,), {}),\n",
    "    \"macd\": ((Float,), {}),\n",
    "    \"rsi\": ((Float,), {})\n",
    "}\n",
    "\n",
    "# Create adjusted table\n",
    "DataBase.create_table(engine, \"daily_prices_adjusted\", columns_adjusted)\n",
    "\n",
    "# Pull, transform, and insert\n",
    "for ticker in faang:\n",
    "    df = yf.Ticker(ticker).history(start=start, end=end).reset_index()\n",
    "    df[\"ticker\"] = ticker\n",
    "    df.rename(columns={\n",
    "        \"Date\": \"date\",\n",
    "        \"Open\": \"open\",\n",
    "        \"High\": \"high\",\n",
    "        \"Low\": \"low\",\n",
    "        \"Close\": \"close\",\n",
    "        \"Volume\": \"volume\"\n",
    "    }, inplace=True)\n",
    "\n",
    "    metrics = MetricsCalculator(df)\n",
    "    enriched_df = metrics.get_adjusted_table()\n",
    "\n",
    "    with engine.connect() as conn:\n",
    "        records = enriched_df.to_dict(orient=\"records\")\n",
    "        conn.execute(metadata.tables[\"daily_prices_adjusted\"].insert(), records)\n",
    "        conn.commit()\n",
    "\n",
    "session.close()\n",
    "print(\"daily_prices_adjusted table successfully loaded.\")\n"
   ]
  }
 ],
 "metadata": {
  "kernelspec": {
   "display_name": "Python (dmlab)",
   "language": "python",
   "name": "dmlab_env"
  },
  "language_info": {
   "codemirror_mode": {
    "name": "ipython",
    "version": 3
   },
   "file_extension": ".py",
   "mimetype": "text/x-python",
   "name": "python",
   "nbconvert_exporter": "python",
   "pygments_lexer": "ipython3",
   "version": "3.10.11"
  }
 },
 "nbformat": 4,
 "nbformat_minor": 5
}
